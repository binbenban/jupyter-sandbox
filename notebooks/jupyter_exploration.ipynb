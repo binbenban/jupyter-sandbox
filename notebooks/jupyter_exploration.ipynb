{
 "cells": [
  {
   "cell_type": "code",
   "execution_count": 2,
   "metadata": {},
   "outputs": [],
   "source": [
    "import ipywidgets as widgets\n",
    "from ipywidgets import interact\n",
    "from IPython.display import display, clear_output, Markdown\n",
    "import pandas as pd"
   ]
  },
  {
   "cell_type": "code",
   "execution_count": 2,
   "metadata": {},
   "outputs": [
    {
     "name": "stdout",
     "output_type": "stream",
     "text": [
      "['Accordion', 'Audio', 'BoundedFloatText', 'BoundedIntText', 'Box', 'Button', 'ButtonStyle', 'CallbackDispatcher', 'Checkbox', 'Color', 'ColorPicker', 'Controller', 'CoreWidget', 'DOMWidget', 'DatePicker', 'Datetime', 'Dropdown', 'FloatLogSlider', 'FloatProgress', 'FloatRangeSlider', 'FloatSlider', 'FloatText', 'GridBox', 'HBox', 'HTML', 'HTMLMath', 'Image', 'IntProgress', 'IntRangeSlider', 'IntSlider', 'IntText', 'Label', 'Layout', 'NumberFormat', 'Output', 'Password', 'Play', 'RadioButtons', 'Select', 'SelectMultiple', 'SelectionRangeSlider', 'SelectionSlider', 'SliderStyle', 'Style', 'Tab', 'Text', 'Textarea', 'ToggleButton', 'ToggleButtons', 'ToggleButtonsStyle', 'VBox', 'Valid', 'ValueWidget', 'Video', 'Widget', '__builtins__', '__cached__', '__doc__', '__file__', '__jupyter_widgets_base_version__', '__jupyter_widgets_controls_version__', '__loader__', '__name__', '__package__', '__path__', '__protocol_version__', '__spec__', '__version__', '_handle_ipython', '_version', 'dlink', 'docutils', 'domwidget', 'fixed', 'get_ipython', 'handle_kernel', 'interact', 'interact_manual', 'interaction', 'interactive', 'interactive_output', 'jsdlink', 'jslink', 'link', 'load_ipython_extension', 'os', 'register', 'register_comm_target', 'trait_types', 'valuewidget', 'version_info', 'widget', 'widget_bool', 'widget_box', 'widget_button', 'widget_color', 'widget_controller', 'widget_core', 'widget_date', 'widget_description', 'widget_float', 'widget_int', 'widget_layout', 'widget_link', 'widget_media', 'widget_output', 'widget_selection', 'widget_selectioncontainer', 'widget_serialization', 'widget_string', 'widget_style', 'widgets']\n"
     ]
    }
   ],
   "source": [
    "print(dir(widgets))"
   ]
  },
  {
   "cell_type": "code",
   "execution_count": 6,
   "metadata": {},
   "outputs": [],
   "source": [
    "df = pd.read_parquet('/Users/bin_wang/Documents/project-alice/data/04_features/features_training.parquet')"
   ]
  },
  {
   "cell_type": "code",
   "execution_count": 7,
   "metadata": {},
   "outputs": [
    {
     "data": {
      "text/html": [
       "<div>\n",
       "<style scoped>\n",
       "    .dataframe tbody tr th:only-of-type {\n",
       "        vertical-align: middle;\n",
       "    }\n",
       "\n",
       "    .dataframe tbody tr th {\n",
       "        vertical-align: top;\n",
       "    }\n",
       "\n",
       "    .dataframe thead th {\n",
       "        text-align: right;\n",
       "    }\n",
       "</style>\n",
       "<table border=\"1\" class=\"dataframe\">\n",
       "  <thead>\n",
       "    <tr style=\"text-align: right;\">\n",
       "      <th></th>\n",
       "      <th>A_AAC</th>\n",
       "      <th>C_AAC</th>\n",
       "      <th>D_AAC</th>\n",
       "      <th>E_AAC</th>\n",
       "      <th>F_AAC</th>\n",
       "      <th>G_AAC</th>\n",
       "      <th>H_AAC</th>\n",
       "      <th>I_AAC</th>\n",
       "      <th>K_AAC</th>\n",
       "      <th>L_AAC</th>\n",
       "      <th>...</th>\n",
       "      <th>g7.g7.g7.gap0_KSCTriad</th>\n",
       "      <th>cell_line</th>\n",
       "      <th>peptide</th>\n",
       "      <th>norm_value</th>\n",
       "      <th>penetration</th>\n",
       "      <th>sequence</th>\n",
       "      <th>source</th>\n",
       "      <th>id</th>\n",
       "      <th>CL1</th>\n",
       "      <th>CL2</th>\n",
       "    </tr>\n",
       "  </thead>\n",
       "  <tbody>\n",
       "    <tr>\n",
       "      <th>0</th>\n",
       "      <td>0.090909</td>\n",
       "      <td>0.0</td>\n",
       "      <td>0.030303</td>\n",
       "      <td>0.0</td>\n",
       "      <td>0.0</td>\n",
       "      <td>0.151515</td>\n",
       "      <td>0.030303</td>\n",
       "      <td>0.030303</td>\n",
       "      <td>0.181818</td>\n",
       "      <td>0.0</td>\n",
       "      <td>...</td>\n",
       "      <td>0.0</td>\n",
       "      <td>CL1</td>\n",
       "      <td>0762-SpyTag</td>\n",
       "      <td>3.759519</td>\n",
       "      <td>1.0</td>\n",
       "      <td>RKRKPGKHRGNRIGKRSDRVGNARPKGSARRKA</td>\n",
       "      <td>Internal</td>\n",
       "      <td>0</td>\n",
       "      <td>1</td>\n",
       "      <td>0</td>\n",
       "    </tr>\n",
       "  </tbody>\n",
       "</table>\n",
       "<p>1 rows × 3117 columns</p>\n",
       "</div>"
      ],
      "text/plain": [
       "      A_AAC  C_AAC     D_AAC  E_AAC  F_AAC     G_AAC     H_AAC     I_AAC  \\\n",
       "0  0.090909    0.0  0.030303    0.0    0.0  0.151515  0.030303  0.030303   \n",
       "\n",
       "      K_AAC  L_AAC  ...  g7.g7.g7.gap0_KSCTriad  cell_line      peptide  \\\n",
       "0  0.181818    0.0  ...                     0.0        CL1  0762-SpyTag   \n",
       "\n",
       "   norm_value  penetration                           sequence    source  id  \\\n",
       "0    3.759519          1.0  RKRKPGKHRGNRIGKRSDRVGNARPKGSARRKA  Internal   0   \n",
       "\n",
       "   CL1  CL2  \n",
       "0    1    0  \n",
       "\n",
       "[1 rows x 3117 columns]"
      ]
     },
     "execution_count": 7,
     "metadata": {},
     "output_type": "execute_result"
    }
   ],
   "source": [
    "df.head(1)"
   ]
  },
  {
   "cell_type": "markdown",
   "metadata": {},
   "source": [
    "## use observe to create relationship between widgets"
   ]
  },
  {
   "cell_type": "code",
   "execution_count": 111,
   "metadata": {},
   "outputs": [],
   "source": [
    "dropdown = widgets.Dropdown(options=df.columns)\n",
    "\n",
    "def dropdown_change(change):\n",
    "    print(df[change['new']])\n",
    "\n",
    "# register observer\n",
    "dropdown.observe(dropdown_change, names='value')\n"
   ]
  },
  {
   "cell_type": "code",
   "execution_count": 119,
   "metadata": {
    "collapsed": true
   },
   "outputs": [
    {
     "data": {
      "application/vnd.jupyter.widget-view+json": {
       "model_id": "4a718ef527674cad992564c0eac98822",
       "version_major": 2,
       "version_minor": 0
      },
      "text/plain": [
       "Dropdown(index=4, options=('A_AAC', 'C_AAC', 'D_AAC', 'E_AAC', 'F_AAC', 'G_AAC', 'H_AAC', 'I_AAC', 'K_AAC', 'L…"
      ]
     },
     "metadata": {},
     "output_type": "display_data"
    },
    {
     "name": "stdout",
     "output_type": "stream",
     "text": [
      "0      0.151515\n",
      "1      0.148148\n",
      "2      0.153846\n",
      "3      0.142857\n",
      "4      0.142857\n",
      "5      0.000000\n",
      "6      0.000000\n",
      "7      0.000000\n",
      "8      0.000000\n",
      "9      0.000000\n",
      "10     0.000000\n",
      "11     0.000000\n",
      "12     0.000000\n",
      "13     0.000000\n",
      "14     0.000000\n",
      "15     0.000000\n",
      "16     0.000000\n",
      "17     0.000000\n",
      "18     0.000000\n",
      "19     0.000000\n",
      "20     0.111111\n",
      "21     0.021277\n",
      "22     0.272727\n",
      "23     0.190476\n",
      "24     0.150000\n",
      "25     0.068966\n",
      "26     0.000000\n",
      "27     0.000000\n",
      "28     0.285714\n",
      "29     0.080000\n",
      "         ...   \n",
      "328    0.000000\n",
      "329    0.096774\n",
      "330    0.033333\n",
      "331    0.000000\n",
      "332    0.090909\n",
      "333    0.000000\n",
      "334    0.230769\n",
      "335    0.035714\n",
      "336    0.090909\n",
      "337    0.217391\n",
      "338    0.000000\n",
      "339    0.021739\n",
      "340    0.064516\n",
      "341    0.043478\n",
      "342    0.080000\n",
      "343    0.080000\n",
      "344    0.043478\n",
      "345    0.000000\n",
      "346    0.085714\n",
      "347    0.000000\n",
      "348    0.000000\n",
      "349    0.179487\n",
      "350    0.100000\n",
      "351    0.090909\n",
      "352    0.024390\n",
      "353    0.000000\n",
      "354    0.000000\n",
      "355    0.033333\n",
      "356    0.000000\n",
      "357    0.000000\n",
      "Name: G_AAC, Length: 358, dtype: float64\n",
      "0      0.000000\n",
      "1      0.000000\n",
      "2      0.000000\n",
      "3      0.000000\n",
      "4      0.000000\n",
      "5      0.000000\n",
      "6      0.000000\n",
      "7      0.000000\n",
      "8      0.000000\n",
      "9      0.000000\n",
      "10     0.000000\n",
      "11     0.000000\n",
      "12     0.000000\n",
      "13     0.000000\n",
      "14     0.000000\n",
      "15     0.000000\n",
      "16     0.000000\n",
      "17     0.000000\n",
      "18     0.000000\n",
      "19     0.000000\n",
      "20     0.000000\n",
      "21     0.021277\n",
      "22     0.000000\n",
      "23     0.000000\n",
      "24     0.000000\n",
      "25     0.000000\n",
      "26     0.000000\n",
      "27     0.000000\n",
      "28     0.000000\n",
      "29     0.000000\n",
      "         ...   \n",
      "328    0.000000\n",
      "329    0.032258\n",
      "330    0.000000\n",
      "331    0.000000\n",
      "332    0.000000\n",
      "333    0.000000\n",
      "334    0.000000\n",
      "335    0.035714\n",
      "336    0.000000\n",
      "337    0.000000\n",
      "338    0.026316\n",
      "339    0.000000\n",
      "340    0.000000\n",
      "341    0.000000\n",
      "342    0.000000\n",
      "343    0.000000\n",
      "344    0.000000\n",
      "345    0.000000\n",
      "346    0.000000\n",
      "347    0.062500\n",
      "348    0.000000\n",
      "349    0.000000\n",
      "350    0.000000\n",
      "351    0.000000\n",
      "352    0.000000\n",
      "353    0.000000\n",
      "354    0.000000\n",
      "355    0.033333\n",
      "356    0.000000\n",
      "357    0.000000\n",
      "Name: M_AAC, Length: 358, dtype: float64\n"
     ]
    }
   ],
   "source": [
    "dropdown"
   ]
  },
  {
   "cell_type": "markdown",
   "metadata": {},
   "source": [
    "## use @interact to auto create widgets on function parameters"
   ]
  },
  {
   "cell_type": "markdown",
   "metadata": {},
   "source": [
    "this is the best version of API!\n",
    "\n",
    "base function is intact\n",
    "\n",
    "in decorator, you indicate values and what widget to use for this value"
   ]
  },
  {
   "cell_type": "code",
   "execution_count": 109,
   "metadata": {},
   "outputs": [
    {
     "data": {
      "application/vnd.jupyter.widget-view+json": {
       "model_id": "e6ccf74b02bd4f9fa64eaa3df4cdcbe2",
       "version_major": 2,
       "version_minor": 0
      },
      "text/plain": [
       "interactive(children=(Dropdown(description='col', options=('A_AAC', 'C_AAC', 'D_AAC', 'E_AAC', 'F_AAC', 'G_AAC…"
      ]
     },
     "metadata": {},
     "output_type": "display_data"
    }
   ],
   "source": [
    "@interact(\n",
    "        col=[x for x in df.columns if '_AAC' in x], \n",
    "        val=widgets.Text(value='0.1'),\n",
    "        val2=(0,10,0.1),\n",
    "        val3={'one': 1, 'two': 2},\n",
    "        val4=1)\n",
    "def filter_data(col, val, val2, val3) -> pd.DataFrame:\n",
    "    return df[df[col] > float(val)]\n"
   ]
  },
  {
   "cell_type": "code",
   "execution_count": 120,
   "metadata": {},
   "outputs": [
    {
     "data": {
      "application/vnd.jupyter.widget-view+json": {
       "model_id": "cd41bdfa214e4705b8dd3ef1eaf17f10",
       "version_major": 2,
       "version_minor": 0
      },
      "text/plain": [
       "interactive(children=(Dropdown(description='x', options=('A_AAC', 'C_AAC', 'D_AAC', 'E_AAC', 'F_AAC', 'G_AAC',…"
      ]
     },
     "metadata": {},
     "output_type": "display_data"
    }
   ],
   "source": [
    "@widgets.interact\n",
    "def scatter_plot(\n",
    "        x=df.columns, \n",
    "        y=df.columns,\n",
    "        color=['red','green','blue']):\n",
    "    df.plot(x=x, y=y, kind='scatter', c=color)\n",
    "    print(df[[x,y]].corr())\n"
   ]
  },
  {
   "cell_type": "code",
   "execution_count": null,
   "metadata": {},
   "outputs": [],
   "source": []
  },
  {
   "cell_type": "code",
   "execution_count": null,
   "metadata": {},
   "outputs": [],
   "source": []
  },
  {
   "cell_type": "markdown",
   "metadata": {},
   "source": [
    "### experiment: dropdown of internal/external, display file list"
   ]
  },
  {
   "cell_type": "code",
   "execution_count": 104,
   "metadata": {},
   "outputs": [],
   "source": [
    "source_dropdown = widgets.Dropdown(options=['external', 'internal'])\n",
    "filelist_dropdown = widgets.Dropdown(options=['cpp924.txt'])\n",
    "show_button = widgets.Button(description='Show file...')\n",
    "output = widgets.Output()"
   ]
  },
  {
   "cell_type": "code",
   "execution_count": 105,
   "metadata": {},
   "outputs": [],
   "source": [
    "def source_change(change):\n",
    "    if change['new'] == 'internal':\n",
    "        filelist_dropdown.options = ['peptidesToGet.txt.core.fa', 'qb_data_analysis_final.xlsx']\n",
    "    else:\n",
    "        filelist_dropdown.options = ['cpp924.txt']\n",
    "\n",
    "source_dropdown.observe(source_change, names='value')\n"
   ]
  },
  {
   "cell_type": "code",
   "execution_count": 106,
   "metadata": {},
   "outputs": [],
   "source": [
    "def button_click(button):\n",
    "    path = '/Users/bin_wang/Documents/project-alice/data/01_raw'\n",
    "    filename = filelist_dropdown.value\n",
    "    output.clear_output()\n",
    "    with output:\n",
    "        if 'txt' in filename or '.fa' in filename:\n",
    "            print(pd.read_csv(f'{path}/{filename}').head(10))\n",
    "        else:\n",
    "            print(pd.read_excel(f\"{path}/{filename}\").head(10))\n",
    "    \n",
    "show_button.on_click(button_click)"
   ]
  },
  {
   "cell_type": "code",
   "execution_count": 107,
   "metadata": {},
   "outputs": [
    {
     "data": {
      "application/vnd.jupyter.widget-view+json": {
       "model_id": "597096ad71bb4c7e93dd4b145ca6c621",
       "version_major": 2,
       "version_minor": 0
      },
      "text/plain": [
       "Dropdown(options=('external', 'internal'), value='external')"
      ]
     },
     "metadata": {},
     "output_type": "display_data"
    },
    {
     "data": {
      "application/vnd.jupyter.widget-view+json": {
       "model_id": "f44b55c8d189479b93177084ee97847b",
       "version_major": 2,
       "version_minor": 0
      },
      "text/plain": [
       "Dropdown(options=('cpp924.txt',), value='cpp924.txt')"
      ]
     },
     "metadata": {},
     "output_type": "display_data"
    },
    {
     "data": {
      "application/vnd.jupyter.widget-view+json": {
       "model_id": "6349841c3ac34f11af81080438b07815",
       "version_major": 2,
       "version_minor": 0
      },
      "text/plain": [
       "Button(description='Show file...', style=ButtonStyle())"
      ]
     },
     "metadata": {},
     "output_type": "display_data"
    },
    {
     "data": {
      "application/vnd.jupyter.widget-view+json": {
       "model_id": "3b8ba76d10f744f1836fe3035f5ee15e",
       "version_major": 2,
       "version_minor": 0
      },
      "text/plain": [
       "Output()"
      ]
     },
     "metadata": {},
     "output_type": "display_data"
    }
   ],
   "source": [
    "display(source_dropdown, filelist_dropdown, show_button, output)"
   ]
  },
  {
   "cell_type": "code",
   "execution_count": null,
   "metadata": {},
   "outputs": [],
   "source": []
  }
 ],
 "metadata": {
  "kernelspec": {
   "display_name": "Python 3",
   "language": "python",
   "name": "python3"
  },
  "language_info": {
   "codemirror_mode": {
    "name": "ipython",
    "version": 3
   },
   "file_extension": ".py",
   "mimetype": "text/x-python",
   "name": "python",
   "nbconvert_exporter": "python",
   "pygments_lexer": "ipython3",
   "version": "3.6.5"
  }
 },
 "nbformat": 4,
 "nbformat_minor": 2
}
