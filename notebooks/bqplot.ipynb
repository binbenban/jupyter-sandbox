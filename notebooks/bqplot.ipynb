{
 "cells": [
  {
   "cell_type": "code",
   "execution_count": 64,
   "metadata": {},
   "outputs": [],
   "source": [
    "from bqplot import pyplot as plt\n",
    "from bqplot import LinearScale\n",
    "import numpy as np\n",
    "import random\n",
    "from IPython.display import display\n",
    "import pandas as pd\n",
    "from ipywidgets import interactive, interact\n",
    "import ipywidgets as widgets\n",
    "\n",
    "from bqplot import (\n",
    "    Figure, Map, Mercator, Orthographic, ColorScale, ColorAxis,\n",
    "    AlbersUSA, topo_load, Tooltip\n",
    ")"
   ]
  },
  {
   "cell_type": "markdown",
   "metadata": {},
   "source": [
    "## Using Grammar of Graphics"
   ]
  },
  {
   "cell_type": "code",
   "execution_count": 59,
   "metadata": {},
   "outputs": [],
   "source": [
    "import bqplot\n",
    "from bqplot import (\n",
    "    LinearScale, Scatter, Axis, Figure, ColorScale, Bars, DateScale, \n",
    "    OrdinalScale, Lines,\n",
    "    ColorAxis, Tooltip\n",
    ")\n",
    "from bqplot.interacts import BrushIntervalSelector"
   ]
  },
  {
   "cell_type": "markdown",
   "metadata": {},
   "source": [
    "### scale means: how to map data to this scale (incl color)"
   ]
  },
  {
   "cell_type": "code",
   "execution_count": 37,
   "metadata": {},
   "outputs": [],
   "source": [
    "x_sc = LinearScale()\n",
    "y_sc = LinearScale()"
   ]
  },
  {
   "cell_type": "code",
   "execution_count": 38,
   "metadata": {},
   "outputs": [],
   "source": [
    "scatter_chart = Scatter(\n",
    "    x=x_data, \n",
    "    y=y_data, \n",
    "    scales={'x': x_sc, 'y': y_sc},\n",
    ")"
   ]
  },
  {
   "cell_type": "code",
   "execution_count": 39,
   "metadata": {},
   "outputs": [],
   "source": [
    "x_ax = Axis(label='X', scale=x_sc)\n",
    "y_ax = Axis(label='Y', scale=y_sc, orientation='vertical')"
   ]
  },
  {
   "cell_type": "code",
   "execution_count": 40,
   "metadata": {},
   "outputs": [
    {
     "data": {
      "application/vnd.jupyter.widget-view+json": {
       "model_id": "5cd3cf21c3284fe6a3e4b7363b4140cb",
       "version_major": 2,
       "version_minor": 0
      },
      "text/plain": [
       "Figure(axes=[Axis(label='X', scale=LinearScale(), side='bottom'), Axis(label='Y', orientation='vertical', scal…"
      ]
     },
     "metadata": {},
     "output_type": "display_data"
    }
   ],
   "source": [
    "fig = Figure(\n",
    "    marks=[scatter_chart], \n",
    "    title='A figure',\n",
    "    axes=[x_ax, y_ax]\n",
    ")\n",
    "display(fig)"
   ]
  },
  {
   "cell_type": "code",
   "execution_count": 43,
   "metadata": {},
   "outputs": [],
   "source": [
    "color_data = np.random.randint(0, 3, size=3)"
   ]
  },
  {
   "cell_type": "code",
   "execution_count": 44,
   "metadata": {},
   "outputs": [],
   "source": [
    "col_sc = ColorScale(colors=['MediumSeaGreen', 'Red'])"
   ]
  },
  {
   "cell_type": "code",
   "execution_count": 48,
   "metadata": {},
   "outputs": [],
   "source": [
    "scatter_chart.scales = {\n",
    "    'x': x_sc,\n",
    "    'y': y_sc,\n",
    "    'color': col_sc\n",
    "}"
   ]
  },
  {
   "cell_type": "code",
   "execution_count": 49,
   "metadata": {},
   "outputs": [],
   "source": [
    "scatter_chart.color = color_data"
   ]
  },
  {
   "cell_type": "markdown",
   "metadata": {},
   "source": [
    "### overylay a Bar chart"
   ]
  },
  {
   "cell_type": "code",
   "execution_count": 50,
   "metadata": {},
   "outputs": [],
   "source": [
    "new_size = 50\n",
    "scale = 100.\n",
    "x_data_new = np.arange(new_size)\n",
    "y_data_new = np.cumsum(np.random.randn(new_size)  * scale)"
   ]
  },
  {
   "cell_type": "code",
   "execution_count": 51,
   "metadata": {},
   "outputs": [
    {
     "data": {
      "text/plain": [
       "array([ -39.45019609,   53.82951985,   77.94332343,  214.49970931,\n",
       "        101.27583112,   83.03043169,  111.6852607 ,  194.63531417,\n",
       "         67.2538403 ,  -78.42258914, -202.67245642, -221.79790399,\n",
       "       -310.06871602, -206.28961756, -251.137962  , -298.20659197,\n",
       "       -337.8460781 , -445.15834982, -457.76066395, -256.68192896,\n",
       "       -304.06130552, -240.20984759, -174.50541727, -252.99800382,\n",
       "       -323.01367597, -246.67689583, -362.13278743, -359.67109937,\n",
       "       -285.6062318 , -375.36802014, -338.08658759, -361.45213996,\n",
       "       -468.38901364, -397.64580199, -336.99412757, -337.56817016,\n",
       "       -339.65472652, -353.87636343, -295.94991602, -433.90628125,\n",
       "       -405.49525805, -461.39361852, -427.47669629, -514.14258114,\n",
       "       -520.32589754, -515.68061797, -385.57327375, -318.76544935,\n",
       "        -86.97497335,   -9.682713  ])"
      ]
     },
     "execution_count": 51,
     "metadata": {},
     "output_type": "execute_result"
    }
   ],
   "source": [
    "y_data_new"
   ]
  },
  {
   "cell_type": "code",
   "execution_count": 52,
   "metadata": {},
   "outputs": [],
   "source": [
    "# All we need to do to add a bar chart to the Figure is pass the same scales to the Mark\n",
    "bar_chart = Bars(x=x_data_new, y=y_data_new, scales={'x': x_sc, 'y': y_sc})"
   ]
  },
  {
   "cell_type": "code",
   "execution_count": 53,
   "metadata": {},
   "outputs": [],
   "source": [
    "fig.marks = [scatter_chart, bar_chart]\n"
   ]
  },
  {
   "cell_type": "markdown",
   "metadata": {},
   "source": [
    "### line chart"
   ]
  },
  {
   "cell_type": "code",
   "execution_count": 56,
   "metadata": {},
   "outputs": [],
   "source": [
    "from bqplot import Lines"
   ]
  },
  {
   "cell_type": "code",
   "execution_count": 54,
   "metadata": {},
   "outputs": [],
   "source": [
    "size = 100\n",
    "scale = 100.\n",
    "x_data = np.arange(size)\n",
    "y_data = np.cumsum(np.random.randn(size) * scale)"
   ]
  },
  {
   "cell_type": "code",
   "execution_count": 58,
   "metadata": {},
   "outputs": [],
   "source": [
    "x_data = [1,2,3,4,5,6,7]\n",
    "y_data = [1,2,3,4,5,67,78]"
   ]
  },
  {
   "cell_type": "code",
   "execution_count": 79,
   "metadata": {},
   "outputs": [
    {
     "data": {
      "application/vnd.jupyter.widget-view+json": {
       "model_id": "a2a4b83987f84b24983076ec0a2e8dba",
       "version_major": 2,
       "version_minor": 0
      },
      "text/plain": [
       "Figure(axes=[Axis(label='X', scale=LinearScale()), Axis(label='Y', orientation='vertical', scale=LinearScale()…"
      ]
     },
     "metadata": {},
     "output_type": "display_data"
    }
   ],
   "source": [
    "x_sc = LinearScale()\n",
    "y_sc = LinearScale()\n",
    "\n",
    "line_chart = Lines(\n",
    "    x=x_data,\n",
    "    y=y_data,\n",
    "    scales={'x': x_sc, 'y': y_sc},\n",
    ")\n",
    "fig = plt.Figure(\n",
    "    marks=[line_chart],\n",
    "    title='line chart',\n",
    "    axes=[\n",
    "        Axis(label='X', scale=x_sc),\n",
    "        Axis(label='Y', scale=y_sc, orientation='vertical')\n",
    "    ]\n",
    ")\n",
    "display(fig)"
   ]
  },
  {
   "cell_type": "code",
   "execution_count": 121,
   "metadata": {},
   "outputs": [],
   "source": [
    "x_sc, y_sc = DateScale(), LinearScale()\n",
    "\n",
    "x_ax = Axis(label='X', scale=x_sc, grid_lines='solid', tick_format='%Y-%m', tick_rotate=30)\n",
    "y_ax = Axis(label='Y', scale=y_sc, orientation='vertical')\n",
    "\n"
   ]
  },
  {
   "cell_type": "code",
   "execution_count": 122,
   "metadata": {},
   "outputs": [],
   "source": [
    "dates = np.arange('2005-02', '2005-03', dtype='datetime64[D]')\n",
    "size = len(dates)\n",
    "prices = scale + 5 * np.cumsum(np.random.randn(size))"
   ]
  },
  {
   "cell_type": "code",
   "execution_count": 125,
   "metadata": {},
   "outputs": [],
   "source": [
    "\n",
    "\n",
    "line_chart = Lines(\n",
    "    x=dates,\n",
    "    y=prices,\n",
    "    scales={'x': x_sc, 'y': y_sc}\n",
    ")\n",
    "\n",
    "fig = plt.Figure(\n",
    "    marks=[line_chart],\n",
    "    background_style={'fill': 'lightgreen'},\n",
    "    axes=[x_ax, y_ax]\n",
    ")"
   ]
  },
  {
   "cell_type": "code",
   "execution_count": 126,
   "metadata": {},
   "outputs": [
    {
     "data": {
      "application/vnd.jupyter.widget-view+json": {
       "model_id": "9fd8379c45234f7899149906a9e3fb1c",
       "version_major": 2,
       "version_minor": 0
      },
      "text/plain": [
       "Figure(axes=[Axis(label='X', scale=DateScale(), side='bottom', tick_format='%Y-%m', tick_rotate=30), Axis(labe…"
      ]
     },
     "metadata": {},
     "output_type": "display_data"
    }
   ],
   "source": [
    "display(fig)"
   ]
  },
  {
   "cell_type": "code",
   "execution_count": 130,
   "metadata": {},
   "outputs": [
    {
     "data": {
      "application/vnd.jupyter.widget-view+json": {
       "model_id": "6be5b4aa396f4a59b5c1389a3e6a793f",
       "version_major": 2,
       "version_minor": 0
      },
      "text/plain": [
       "Figure(axes=[Axis(label='X', scale=DateScale(), side='bottom', tick_format='%Y-%m', tick_rotate=30), Axis(labe…"
      ]
     },
     "metadata": {},
     "output_type": "display_data"
    }
   ],
   "source": [
    "scatter_plot = Scatter(\n",
    "    x=dates,\n",
    "    y=prices,\n",
    "    scales={'x': x_sc, 'y': y_sc},\n",
    ")\n",
    "\n",
    "fig = plt.Figure(\n",
    "    marks=[scatter_plot],\n",
    "    axes=[x_ax, y_ax]\n",
    ")\n",
    "\n",
    "display(fig)"
   ]
  },
  {
   "cell_type": "markdown",
   "metadata": {},
   "source": [
    "### Histogram"
   ]
  },
  {
   "cell_type": "code",
   "execution_count": 132,
   "metadata": {},
   "outputs": [
    {
     "data": {
      "application/vnd.jupyter.widget-view+json": {
       "model_id": "d143f5952df1406994040c857d9f8b70",
       "version_major": 2,
       "version_minor": 0
      },
      "text/plain": [
       "Figure(axes=[Axis(label='X', scale=LinearScale(), tick_rotate=30), Axis(label='Y', orientation='vertical', sca…"
      ]
     },
     "metadata": {},
     "output_type": "display_data"
    }
   ],
   "source": [
    "x_sc, y_sc = OrdinalScale(), LinearScale()\n",
    "\n",
    "x_ax = Axis(label='X', scale=x_sc, grid_lines='solid', tick_rotate=30)\n",
    "y_ax = Axis(label='Y', scale=y_sc, orientation='vertical')\n",
    "\n",
    "\n",
    "hist = bqplot.Hist(\n",
    "    sample=y_data,\n",
    "    scales={'sample': x_sc, 'count': y_sc}\n",
    ")\n",
    "\n",
    "fig = plt.Figure(\n",
    "    marks=[hist],\n",
    "    axes = [x_ax, y_ax]\n",
    ")\n",
    "\n",
    "display(fig)"
   ]
  },
  {
   "cell_type": "markdown",
   "metadata": {},
   "source": [
    "### Bar chart"
   ]
  },
  {
   "cell_type": "code",
   "execution_count": 26,
   "metadata": {},
   "outputs": [],
   "source": [
    "x_sc, y_sc = OrdinalScale(), LinearScale()\n",
    "\n",
    "x_ax = Axis(scale=x_sc)\n",
    "y_ax = Axis(scale=y_sc, orientation='vertical')"
   ]
  },
  {
   "cell_type": "code",
   "execution_count": 49,
   "metadata": {},
   "outputs": [
    {
     "data": {
      "application/vnd.jupyter.widget-view+json": {
       "model_id": "906cad34456a41a18a29404e11c658f9",
       "version_major": 2,
       "version_minor": 0
      },
      "text/plain": [
       "Figure(animation_duration=1000, axes=[Axis(scale=OrdinalScale(), side='bottom'), Axis(orientation='vertical', …"
      ]
     },
     "metadata": {},
     "output_type": "display_data"
    }
   ],
   "source": [
    "import string\n",
    "\n",
    "x_data = list(string.ascii_uppercase)\n",
    "y_data = np.abs(y_data[:30])\n",
    "\n",
    "bar_chart = Bars(\n",
    "    x=['A','B','C','D','E'],\n",
    "    y=[1,23,4,5],\n",
    "    scales={'x': x_sc, 'y': y_sc},\n",
    ")\n",
    "\n",
    "fig = plt.Figure(\n",
    "    marks=[bar_chart],\n",
    "    axes=[x_ax, y_ax],\n",
    "    animation_duration=1000\n",
    ")\n",
    "\n",
    "display(fig)"
   ]
  },
  {
   "cell_type": "code",
   "execution_count": 51,
   "metadata": {},
   "outputs": [],
   "source": [
    "    fig.marks[0].y = random.sample(list(np.arange(100)), 4)"
   ]
  },
  {
   "cell_type": "code",
   "execution_count": 42,
   "metadata": {},
   "outputs": [
    {
     "data": {
      "text/plain": [
       "[28, 50, 43, 33]"
      ]
     },
     "execution_count": 42,
     "metadata": {},
     "output_type": "execute_result"
    }
   ],
   "source": [
    "random.sample(list(np.arange(100)), 4)"
   ]
  },
  {
   "cell_type": "markdown",
   "metadata": {},
   "source": [
    "### another bar plot"
   ]
  },
  {
   "cell_type": "code",
   "execution_count": 34,
   "metadata": {},
   "outputs": [],
   "source": [
    "bar_chart.base=2.0\n",
    "bar_chart.align='left'"
   ]
  },
  {
   "cell_type": "code",
   "execution_count": 31,
   "metadata": {},
   "outputs": [
    {
     "data": {
      "application/vnd.jupyter.widget-view+json": {
       "model_id": "6fb549da9a944d019c0eecf197e0e042",
       "version_major": 2,
       "version_minor": 0
      },
      "text/plain": [
       "Figure(axes=[Axis(scale=LinearScale(), tick_format='0.2f'), Axis(orientation='vertical', scale=OrdinalScale())…"
      ]
     },
     "metadata": {},
     "output_type": "display_data"
    }
   ],
   "source": [
    "x_sc, y_sc = OrdinalScale(), LinearScale()\n",
    "color_sc = ColorScale()\n",
    "bar_chart = Bars(\n",
    "    x=np.arange(10),\n",
    "    y=np.random.rand(10),\n",
    "    scales={'x': x_sc, 'y': y_sc},\n",
    "    orientation='horizontal',\n",
    "    base=1.0\n",
    ")\n",
    "\n",
    "x_ax = Axis(scale=x_sc, orientation='vertical')\n",
    "y_ax = Axis(scale=y_sc, tick_format='0.2f')\n",
    "fig = plt.Figure(\n",
    "    marks=[bar_chart],\n",
    "    axes=[y_ax, x_ax]\n",
    ")\n",
    "display(fig)"
   ]
  },
  {
   "cell_type": "markdown",
   "metadata": {},
   "source": [
    "### stacked/grouped bar plot"
   ]
  },
  {
   "cell_type": "code",
   "execution_count": 54,
   "metadata": {},
   "outputs": [],
   "source": [
    "x_sc, y_sc = OrdinalScale(), LinearScale()\n",
    "color_sc = ColorScale(scheme='Reds')\n",
    "x_data = np.random.randint(0, 20, size=20)\n",
    "y1_data = np.cumsum(x_data)[:20]\n",
    "y2_data = np.cumsum(y1_data) * -1"
   ]
  },
  {
   "cell_type": "code",
   "execution_count": 59,
   "metadata": {},
   "outputs": [
    {
     "data": {
      "application/vnd.jupyter.widget-view+json": {
       "model_id": "7a027cbc973c437f89bca3995cf77a77",
       "version_major": 2,
       "version_minor": 0
      },
      "text/plain": [
       "Figure(axes=[Axis(scale=OrdinalScale()), Axis(orientation='vertical', scale=LinearScale()), ColorAxis(scale=Co…"
      ]
     },
     "metadata": {},
     "output_type": "display_data"
    }
   ],
   "source": [
    "# plot\n",
    "bar_plot = Bars(\n",
    "    x=x_data,\n",
    "    y=[y1_data, y2_data],\n",
    "    color=np.abs(y1_data),\n",
    "    scales={'x': x_sc, 'y': y_sc, 'color': color_sc},\n",
    ")\n",
    "\n",
    "plt.Figure(\n",
    "    marks=[bar_plot],\n",
    "    axes=[\n",
    "        Axis(scale=x_sc),\n",
    "        Axis(scale=y_sc, orientation='vertical'),\n",
    "        ColorAxis(scale=color_sc),\n",
    "    ]\n",
    ")"
   ]
  },
  {
   "cell_type": "code",
   "execution_count": 49,
   "metadata": {},
   "outputs": [],
   "source": [
    "bar_plot.type='stacked'\n",
    "# or 'stacked' / grouped"
   ]
  },
  {
   "cell_type": "markdown",
   "metadata": {},
   "source": [
    "### Application: Gaussian "
   ]
  },
  {
   "cell_type": "code",
   "execution_count": 53,
   "metadata": {},
   "outputs": [],
   "source": [
    "from scipy.stats import norm"
   ]
  },
  {
   "cell_type": "code",
   "execution_count": 79,
   "metadata": {},
   "outputs": [],
   "source": [
    "x = np.linspace(-10, 10, 200)\n",
    "y = norm.pdf(x)\n",
    "\n",
    "x_sc, y_sc = LinearScale(), LinearScale()"
   ]
  },
  {
   "cell_type": "code",
   "execution_count": 85,
   "metadata": {},
   "outputs": [
    {
     "data": {
      "application/vnd.jupyter.widget-view+json": {
       "model_id": "d14e4a44e4774427be2ab28d2cc94a32",
       "version_major": 2,
       "version_minor": 0
      },
      "text/plain": [
       "interactive(children=(FloatSlider(value=0.0, continuous_update=False, description='a', max=5.0, min=-5.0), Flo…"
      ]
     },
     "metadata": {},
     "output_type": "display_data"
    },
    {
     "data": {
      "text/plain": [
       "''"
      ]
     },
     "execution_count": 85,
     "metadata": {},
     "output_type": "execute_result"
    }
   ],
   "source": [
    "lines = Lines(\n",
    "    x=x,\n",
    "    y=y,\n",
    "    scales={'x': x_sc, 'y': y_sc},\n",
    ")\n",
    "\n",
    "fig = plt.Figure(\n",
    "    marks = [lines],\n",
    "    axes = [\n",
    "        Axis(scale=x_sc),\n",
    "        Axis(scale=y_sc, orientation='vertical'),\n",
    "    ],\n",
    ")\n",
    "\n",
    "\n",
    "def update_gaussian(a, b):\n",
    "    fig.marks[0].y = norm.pdf(fig.marks[0].x, a, b)\n",
    "    display(fig)\n",
    "\n",
    "# add interaction\n",
    "interact(update_gaussian, \n",
    "         a=widgets.FloatSlider(value=0, min=-5, max=5, step=.1, continuous_update=False), \n",
    "         b=widgets.FloatSlider(value=1, min=0.1, max=5, step=.1, continuous_update=False),\n",
    "        )\n",
    ";"
   ]
  },
  {
   "cell_type": "markdown",
   "metadata": {},
   "source": [
    "### another attemp"
   ]
  },
  {
   "cell_type": "code",
   "execution_count": 86,
   "metadata": {},
   "outputs": [],
   "source": [
    "y1, y2 = np.random.randn(2, 200).cumsum(axis=1) # two simple random walks\n"
   ]
  },
  {
   "cell_type": "code",
   "execution_count": 164,
   "metadata": {
    "scrolled": false
   },
   "outputs": [
    {
     "data": {
      "application/vnd.jupyter.widget-view+json": {
       "model_id": "d0d2ddd93e4a4ab2b7793a3220fd78fc",
       "version_major": 2,
       "version_minor": 0
      },
      "text/plain": [
       "Figure(animation_duration=1000, axes=[Axis(scale=LinearScale()), Axis(orientation='vertical', scale=LinearScal…"
      ]
     },
     "metadata": {},
     "output_type": "display_data"
    },
    {
     "data": {
      "application/vnd.jupyter.widget-view+json": {
       "model_id": "90e21359f600417cb7b040cfc6456ae2",
       "version_major": 2,
       "version_minor": 0
      },
      "text/plain": [
       "Figure(axes=[Axis(scale=LinearScale()), Axis(orientation='vertical', scale=LinearScale())], fig_margin={'top':…"
      ]
     },
     "metadata": {},
     "output_type": "display_data"
    }
   ],
   "source": [
    "xsc, ysc = LinearScale(), LinearScale()\n",
    "\n",
    "line_chart1 = Lines(\n",
    "    x=np.arange(len(y1)),\n",
    "    y=y1,\n",
    "    scales={'x':xsc, 'y':ysc},\n",
    ")\n",
    "\n",
    "line_chart2 = Lines(\n",
    "    x=np.arange(len(y2)),\n",
    "    y=y2,\n",
    "    scales={'x':xsc, 'y':ysc},\n",
    "    colors=['orange']\n",
    ")\n",
    "\n",
    "fig = plt.Figure(\n",
    "    marks=[line_chart1, line_chart2],\n",
    "    axes = [\n",
    "        Axis(scale=xsc),\n",
    "        Axis(scale=ysc, orientation='vertical'),\n",
    "    ],\n",
    "    layout={'width': '900px'},\n",
    "    animation_duration=1000\n",
    ")\n",
    "display(fig)\n",
    "\n",
    "#scatter plot\n",
    "scatter_x_sc, scatter_y_sc = LinearScale(), LinearScale()\n",
    "scatter_chart = Scatter(\n",
    "    x=[],\n",
    "    y=[],\n",
    "    scales = {'x': scatter_x_sc, 'y': scatter_y_sc}\n",
    ")\n",
    "scatter_fig = plt.Figure(\n",
    "    marks=[scatter_chart],\n",
    "    axes = [\n",
    "        Axis(scale=scatter_x_sc),\n",
    "        Axis(scale=scatter_y_sc, orientation='vertical')\n",
    "    ]\n",
    "    \n",
    ")\n",
    "display(scatter_fig)\n",
    "\n"
   ]
  },
  {
   "cell_type": "code",
   "execution_count": 165,
   "metadata": {},
   "outputs": [],
   "source": [
    "# create a fast interval selector by passing in the X scale and the line mark on which the selector operates\n",
    "intsel = BrushIntervalSelector(marks=[line_chart1], scale=line_chart1.scales['x'])\n",
    "fig.interaction = intsel # set the interval selector on the figure"
   ]
  },
  {
   "cell_type": "code",
   "execution_count": 166,
   "metadata": {},
   "outputs": [],
   "source": [
    "def on_int_selection(*args):\n",
    "    if not intsel.brushing:\n",
    "        scatter_fig.marks[0].x = line_chart1.selected\n",
    "        scatter_fig.marks[0].y = [y1[x] for x in line_chart1.selected]\n",
    "\n",
    "intsel.observe(on_int_selection, 'brushing')"
   ]
  },
  {
   "cell_type": "markdown",
   "metadata": {},
   "source": [
    "### scatter with interact"
   ]
  },
  {
   "cell_type": "code",
   "execution_count": 179,
   "metadata": {},
   "outputs": [],
   "source": [
    "import pandas as pd\n",
    "\n",
    "# create a dummy time series for 5 dummy stock tickers\n",
    "dates = pd.date_range(start='20180101', end='20181231')\n",
    "n = len(dates)\n",
    "tickers = list('ABCDE')\n",
    "prices = pd.DataFrame(np.random.randn(n, 5).cumsum(axis=0), columns=tickers)"
   ]
  },
  {
   "cell_type": "code",
   "execution_count": 180,
   "metadata": {},
   "outputs": [
    {
     "data": {
      "text/html": [
       "<div>\n",
       "<style scoped>\n",
       "    .dataframe tbody tr th:only-of-type {\n",
       "        vertical-align: middle;\n",
       "    }\n",
       "\n",
       "    .dataframe tbody tr th {\n",
       "        vertical-align: top;\n",
       "    }\n",
       "\n",
       "    .dataframe thead th {\n",
       "        text-align: right;\n",
       "    }\n",
       "</style>\n",
       "<table border=\"1\" class=\"dataframe\">\n",
       "  <thead>\n",
       "    <tr style=\"text-align: right;\">\n",
       "      <th></th>\n",
       "      <th>A</th>\n",
       "      <th>B</th>\n",
       "      <th>C</th>\n",
       "      <th>D</th>\n",
       "      <th>E</th>\n",
       "    </tr>\n",
       "  </thead>\n",
       "  <tbody>\n",
       "    <tr>\n",
       "      <th>0</th>\n",
       "      <td>-0.533535</td>\n",
       "      <td>-0.277714</td>\n",
       "      <td>-0.593187</td>\n",
       "      <td>-0.019008</td>\n",
       "      <td>0.196666</td>\n",
       "    </tr>\n",
       "    <tr>\n",
       "      <th>1</th>\n",
       "      <td>-0.411541</td>\n",
       "      <td>-1.761695</td>\n",
       "      <td>0.248359</td>\n",
       "      <td>1.450636</td>\n",
       "      <td>0.061703</td>\n",
       "    </tr>\n",
       "  </tbody>\n",
       "</table>\n",
       "</div>"
      ],
      "text/plain": [
       "          A         B         C         D         E\n",
       "0 -0.533535 -0.277714 -0.593187 -0.019008  0.196666\n",
       "1 -0.411541 -1.761695  0.248359  1.450636  0.061703"
      ]
     },
     "execution_count": 180,
     "metadata": {},
     "output_type": "execute_result"
    }
   ],
   "source": [
    "prices.head(2)"
   ]
  },
  {
   "cell_type": "code",
   "execution_count": 189,
   "metadata": {},
   "outputs": [
    {
     "data": {
      "application/vnd.jupyter.widget-view+json": {
       "model_id": "92d4ebef5ae2408ca6aef6842b4cc3d2",
       "version_major": 2,
       "version_minor": 0
      },
      "text/plain": [
       "Figure(animation_duration=700, axes=[Axis(scale=LinearScale()), Axis(orientation='vertical', scale=LinearScale…"
      ]
     },
     "metadata": {},
     "output_type": "display_data"
    },
    {
     "data": {
      "application/vnd.jupyter.widget-view+json": {
       "model_id": "ef8441e11f2b4ef0865c2cf863cff4ae",
       "version_major": 2,
       "version_minor": 0
      },
      "text/plain": [
       "interactive(children=(Dropdown(description='ticker1', options=('A', 'B', 'C', 'D', 'E'), value='A'), Dropdown(…"
      ]
     },
     "metadata": {},
     "output_type": "display_data"
    },
    {
     "data": {
      "text/plain": [
       "<function __main__.show_scatter(ticker1, ticker2)>"
      ]
     },
     "execution_count": 189,
     "metadata": {},
     "output_type": "execute_result"
    }
   ],
   "source": [
    "# create scatter plot\n",
    "x_sc, y_sc, color_sc = LinearScale(), LinearScale(), ColorScale(colors=['red','navy'])\n",
    "\n",
    "scatter_chart = Scatter(\n",
    "    x=prices['A'],\n",
    "    y=prices['B'],\n",
    "    scales={'x': x_sc, 'y': y_sc, 'color': color_sc},\n",
    "    color=dates,\n",
    "    \n",
    ")\n",
    "\n",
    "fig = plt.Figure(\n",
    "    marks=[scatter_chart],\n",
    "    axes=[\n",
    "        Axis(scale=x_sc),\n",
    "        Axis(scale=y_sc, orientation='vertical'),\n",
    "    ],\n",
    "    animation_duration=700\n",
    ")\n",
    "\n",
    "\n",
    "display(fig)\n",
    "\n",
    "def show_scatter(ticker1, ticker2):\n",
    "    scatter_chart.x = prices[ticker1]\n",
    "    scatter_chart.y = prices[ticker2]\n",
    "\n",
    "    \n",
    "interact(\n",
    "    show_scatter,\n",
    "    ticker1=widgets.Dropdown(options=list('ABCDE'), value='A'),\n",
    "    ticker2=widgets.Dropdown(options=list('ABCDE'), value='B'),\n",
    "    \n",
    ")"
   ]
  },
  {
   "cell_type": "markdown",
   "metadata": {},
   "source": [
    "### Scatter with size"
   ]
  },
  {
   "cell_type": "code",
   "execution_count": 28,
   "metadata": {},
   "outputs": [],
   "source": [
    "x_data = np.random.randint(1, 20, 100)\n",
    "y_data = 3 * x_data * x_data + np.random.rand(1, 1)[0]\n",
    "size_data = y_data\n",
    "color_data = x_data"
   ]
  },
  {
   "cell_type": "code",
   "execution_count": 32,
   "metadata": {},
   "outputs": [
    {
     "data": {
      "application/vnd.jupyter.widget-view+json": {
       "model_id": "c6745cb0ac5e43f8a5dd02ba524408e5",
       "version_major": 2,
       "version_minor": 0
      },
      "text/plain": [
       "Figure(axes=[Axis(scale=LinearScale()), Axis(orientation='vertical', scale=LinearScale()), ColorAxis(scale=Col…"
      ]
     },
     "metadata": {},
     "output_type": "display_data"
    }
   ],
   "source": [
    "x_sc = LinearScale()\n",
    "y_sc = LinearScale()\n",
    "color_sc = ColorScale(colors=['red','green','yellow'])\n",
    "size_sc = LinearScale()\n",
    "\n",
    "# create plot\n",
    "scatter_chart = Scatter(\n",
    "    x=x_data,\n",
    "    y=y_data,\n",
    "    size=size_data,\n",
    "    color=color_data,\n",
    "    scales = {\n",
    "        'x': x_sc,\n",
    "        'y': y_sc,\n",
    "        'size': size_sc,\n",
    "        'color': color_sc\n",
    "    },\n",
    "    default_size=1000\n",
    ")\n",
    "\n",
    "x_ax = Axis(scale=x_sc)\n",
    "y_ax = Axis(scale=y_sc, orientation='vertical')\n",
    "color_ax = ColorAxis(scale=color_sc)\n",
    "\n",
    "plt.Figure(\n",
    "    marks=[scatter_chart],\n",
    "    axes=[x_ax, y_ax, color_ax]\n",
    ")\n"
   ]
  },
  {
   "cell_type": "markdown",
   "metadata": {},
   "source": [
    "### Interaction with Scatter"
   ]
  },
  {
   "cell_type": "code",
   "execution_count": 63,
   "metadata": {},
   "outputs": [
    {
     "data": {
      "application/vnd.jupyter.widget-view+json": {
       "model_id": "de1a398d5ad54346aaee614bcf101972",
       "version_major": 2,
       "version_minor": 0
      },
      "text/plain": [
       "Figure(axes=[Axis(scale=LinearScale()), Axis(orientation='vertical', scale=LinearScale())], fig_margin={'top':…"
      ]
     },
     "metadata": {},
     "output_type": "display_data"
    }
   ],
   "source": [
    "x_sc = LinearScale()\n",
    "y_sc = LinearScale()\n",
    "\n",
    "scatter_chart = Scatter(\n",
    "    x=x_data[:10], y=y_data[:10], scales={'x': x_sc, 'y': y_sc},\n",
    "    enable_move=True,\n",
    "    tooltip=Tooltip(fields=['x','y']), \n",
    "    unhovered_style={'opacity': 0.5}\n",
    ")\n",
    "\n",
    "x_ax = Axis(scale=x_sc)\n",
    "y_ax = Axis(scale=y_sc, orientation='vertical')\n",
    "\n",
    "def on_move(*args):\n",
    "    print(f'new x mean: {np.mean(scatter_chart.x)}')\n",
    "    \n",
    "\n",
    "scatter_chart.observe(on_move, names=['x'])\n",
    "\n",
    "plt.Figure(\n",
    "    marks=[scatter_chart],\n",
    "    axes=[x_ax, y_ax]    \n",
    ")\n",
    "\n",
    "\n"
   ]
  },
  {
   "cell_type": "markdown",
   "metadata": {},
   "source": [
    "### Map (using ipyleaflet)"
   ]
  },
  {
   "cell_type": "code",
   "execution_count": 90,
   "metadata": {
    "scrolled": false
   },
   "outputs": [
    {
     "name": "stdout",
     "output_type": "stream",
     "text": [
      "Enabling notebook extension jupyter-leaflet/extension...\r\n",
      "      - Validating: \u001b[32mOK\u001b[0m\r\n"
     ]
    }
   ],
   "source": [
    "# !pip install ipyleaflet\n",
    "# !jupyter nbextension enable --py --sys-prefix ipyleaflet"
   ]
  },
  {
   "cell_type": "code",
   "execution_count": 38,
   "metadata": {},
   "outputs": [],
   "source": [
    "from ipyleaflet import Map, basemaps, Heatmap, GeoJSON\n",
    "import json"
   ]
  },
  {
   "cell_type": "code",
   "execution_count": 47,
   "metadata": {},
   "outputs": [],
   "source": [
    "m = Map(center=(0, 0), zoom=2, name='Base Map')"
   ]
  },
  {
   "cell_type": "code",
   "execution_count": 37,
   "metadata": {
    "scrolled": false
   },
   "outputs": [],
   "source": [
    "# geojson layer with hover handler\n",
    "with open('/Users/bin_wang/Documents/jupyter-sandbox/australian-suburbs.geojson') as f:\n",
    "    data = json.load(f)"
   ]
  },
  {
   "cell_type": "code",
   "execution_count": 43,
   "metadata": {},
   "outputs": [],
   "source": [
    "geojson_layer = GeoJSON(data = data, name='AU', hover_style={'fillColor': 'red'})"
   ]
  },
  {
   "cell_type": "code",
   "execution_count": 49,
   "metadata": {
    "scrolled": false
   },
   "outputs": [],
   "source": [
    "m.add_layer(geojson_layer)"
   ]
  },
  {
   "cell_type": "code",
   "execution_count": 48,
   "metadata": {},
   "outputs": [
    {
     "data": {
      "application/vnd.jupyter.widget-view+json": {
       "model_id": "cb2a63c0441f4438b7670d27b7951f82",
       "version_major": 2,
       "version_minor": 0
      },
      "text/plain": [
       "Map(basemap={'url': 'https://{s}.tile.openstreetmap.org/{z}/{x}/{y}.png', 'max_zoom': 19, 'attribution': 'Map …"
      ]
     },
     "metadata": {},
     "output_type": "display_data"
    }
   ],
   "source": [
    "m"
   ]
  },
  {
   "cell_type": "code",
   "execution_count": null,
   "metadata": {},
   "outputs": [],
   "source": []
  }
 ],
 "metadata": {
  "kernelspec": {
   "display_name": "Python 3",
   "language": "python",
   "name": "python3"
  },
  "language_info": {
   "codemirror_mode": {
    "name": "ipython",
    "version": 3
   },
   "file_extension": ".py",
   "mimetype": "text/x-python",
   "name": "python",
   "nbconvert_exporter": "python",
   "pygments_lexer": "ipython3",
   "version": "3.6.5"
  }
 },
 "nbformat": 4,
 "nbformat_minor": 2
}
